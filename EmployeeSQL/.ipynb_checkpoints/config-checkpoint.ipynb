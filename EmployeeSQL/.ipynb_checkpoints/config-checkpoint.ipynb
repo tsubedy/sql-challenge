{
 "cells": [
  {
   "cell_type": "code",
   "execution_count": null,
   "id": "7c80d954",
   "metadata": {},
   "outputs": [],
   "source": [
    "# USer name and password for Postgres\n",
    "username = \"postgres\"\n",
    "password = \"********\"\n"
   ]
  }
 ],
 "metadata": {
  "kernelspec": {
   "display_name": "Python 3",
   "language": "python",
   "name": "python3"
  },
  "language_info": {
   "codemirror_mode": {
    "name": "ipython",
    "version": 3
   },
   "file_extension": ".py",
   "mimetype": "text/x-python",
   "name": "python",
   "nbconvert_exporter": "python",
   "pygments_lexer": "ipython3",
   "version": "3.8.8"
  }
 },
 "nbformat": 4,
 "nbformat_minor": 5
}
